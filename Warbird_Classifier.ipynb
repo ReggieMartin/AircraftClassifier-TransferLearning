{
  "nbformat": 4,
  "nbformat_minor": 0,
  "metadata": {
    "colab": {
      "name": "Copy of warbird_classifier.ipynb",
      "provenance": [],
      "collapsed_sections": [],
      "include_colab_link": true
    },
    "kernelspec": {
      "name": "python3",
      "display_name": "Python 3"
    },
    "language_info": {
      "name": "python"
    }
  },
  "cells": [
    {
      "cell_type": "markdown",
      "metadata": {
        "id": "view-in-github",
        "colab_type": "text"
      },
      "source": [
        "<a href=\"https://colab.research.google.com/github/fastlearner-ai/WWII-USN-Carrier-Aircraft-Classifier/blob/main/Copy_of_warbird_classifier.ipynb\" target=\"_parent\"><img src=\"https://colab.research.google.com/assets/colab-badge.svg\" alt=\"Open In Colab\"/></a>"
      ]
    },
    {
      "cell_type": "markdown",
      "metadata": {
        "id": "hXC_1onHf0MP"
      },
      "source": [
        "**WWII USN Fighter Image Classifier**\n",
        "\n",
        "\n",
        "This notebook scrapes pictures of the nine most important World War II USN carrier aircraft and then trains a CNN model which accurately classifies them."
      ]
    },
    {
      "cell_type": "code",
      "metadata": {
        "id": "r_qQRxyia_XI"
      },
      "source": [
        "from pathlib import Path\n",
        "path = Path().cwd()/\"warbirds\" #assigns path to current working directory\n",
        "#These classes need to be in alphabetical order:\n",
        "warbirds = ['avenger', 'bearcat', 'buffalo', 'corsair', 'dauntless', 'devastator', 'hellcat', 'helldiver', 'wildcat']"
      ],
      "execution_count": null,
      "outputs": []
    },
    {
      "cell_type": "markdown",
      "metadata": {
        "id": "0xh01_2_gu7x"
      },
      "source": [
        "Many of these carrier planes look similar to each other. For example, they are usually colored some shade of blue. They are all single-engine monoplane naval aircraft from the same navy and same timeframe.\n",
        "\n",
        "In particular, many of the fighter aircraft can appear similar even to a human:\n",
        "\n",
        "-The **F2A Buffalo** looks much tubbier than any of the others, but still looks similar to the **F4F Wildcat** from some angles.\n",
        "\n",
        "-The **F4F Wildcat** looks very similar to its successor the **F6F Hellcat**. I expect the model to confuse these two the most frequently.\n",
        "\n",
        "-The **F6F Hellcat** looks similar to its own successor the **F8F Bearcat**."
      ]
    },
    {
      "cell_type": "markdown",
      "metadata": {
        "id": "TqETwo0glg0w"
      },
      "source": [
        "# Data collection (DuckDuckGo image scraping):"
      ]
    },
    {
      "cell_type": "code",
      "metadata": {
        "id": "qQ7fEkzUZawg"
      },
      "source": [
        "#import the image scraper by @JoeDockrill, website: https://joedockrill.github.io/blog/2020/09/18/jmd-imagescraper-library/\n",
        "!pip install -q jmd_imagescraper\n",
        "from jmd_imagescraper.core import * \n",
        "from jmd_imagescraper.imagecleaner import *\n",
        "\n",
        "num_images = 25 #Total number of images per class we are scraping"
      ],
      "execution_count": null,
      "outputs": []
    },
    {
      "cell_type": "code",
      "metadata": {
        "id": "swe5ZVgmb-0M"
      },
      "source": [
        "#Scrape images; these commands do not necessarily need to be in alphabetical order because they produce the same folder structure regardless.\n",
        "duckduckgo_search(path,\"avenger\",\"tbf avenger\",max_results=num_images);\n",
        "duckduckgo_search(path,\"bearcat\",\"f8f bearcat\",max_results=num_images);\n",
        "duckduckgo_search(path,\"buffalo\",\"f2a buffalo\",max_results=num_images);\n",
        "duckduckgo_search(path,\"corsair\",\"f4u corsair\",max_results=num_images);\n",
        "duckduckgo_search(path,\"dauntless\",\"sbd dauntless\",max_results=num_images);\n",
        "duckduckgo_search(path,\"devastator\",\"tbd devastator\",max_results=num_images);\n",
        "duckduckgo_search(path,\"hellcat\",\"f6f hellcat\",max_results=num_images);\n",
        "duckduckgo_search(path,\"helldiver\",\"sb2c helldiver\",max_results=num_images);\n",
        "duckduckgo_search(path,\"wildcat\",\"f4f wildcat\",max_results=num_images);\n"
      ],
      "execution_count": null,
      "outputs": []
    },
    {
      "cell_type": "code",
      "metadata": {
        "id": "K1BTV8X1--jn"
      },
      "source": [
        "#@title Code to delete pictures in case you mess up:\n",
        "#Utility code to delete folders if necessary:\n",
        "import shutil\n",
        "shutil.rmtree('/content/warbirds')\n",
        "shutil.rmtree('/content/warbirds_processed')"
      ],
      "execution_count": null,
      "outputs": []
    },
    {
      "cell_type": "markdown",
      "metadata": {
        "id": "mOsdQVOiegGA"
      },
      "source": [
        "# Data Cleaning (Auto-remove near duplicates, manually remove incorrectly-labeled data):"
      ]
    },
    {
      "cell_type": "code",
      "metadata": {
        "id": "Mrv0U1gBV2tf"
      },
      "source": [
        "!pip install fiftyone\n",
        "!pip install torch torchvision\n",
        "!pip install sklearn\n",
        "import fiftyone as fo\n",
        "import fiftyone.zoo as foz\n",
        "from sklearn.metrics.pairwise import cosine_similarity\n",
        "import numpy as np"
      ],
      "execution_count": null,
      "outputs": []
    },
    {
      "cell_type": "code",
      "metadata": {
        "id": "cLJj1Ivf6lFt"
      },
      "source": [
        "#Create fiftyone model:\n",
        "dataset = fo.Dataset.from_dir(path, dataset_type=fo.types.ImageClassificationDirectoryTree)\n",
        "model = foz.load_zoo_model(\"mobilenet-v2-imagenet-torch\")\n",
        "embeddings = dataset.compute_embeddings(model)\n",
        "print(embeddings.shape)\n",
        "\n",
        "similarity_matrix = cosine_similarity(embeddings)\n",
        "print(similarity_matrix.shape)\n",
        "print(similarity_matrix)\n",
        "\n",
        "#Every single picture is a perfect match with itself, but we want to ignore that fact.\n",
        "#So we subtract the  identity matrix from similarity matrix so main diagonal values are 0 instead of 1:\n",
        "n = len(similarity_matrix)\n",
        "similarity_matrix = similarity_matrix - np.identity(n)\n",
        "\n",
        "id_map = [s.id for s in dataset.select_fields([\"id\"])]\n",
        "#filepath_map = [f.filepath for f in dataset.select_fields([\"filepath\"])]\n",
        "for idx, sample in enumerate(dataset):\n",
        "    sample[\"max_similarity\"] = similarity_matrix[idx].max()\n",
        "    sample.save()"
      ],
      "execution_count": null,
      "outputs": []
    },
    {
      "cell_type": "code",
      "metadata": {
        "id": "KzwFc9eKyk8m"
      },
      "source": [
        "print(filepath_map)\n",
        "print(len(filepath_map))"
      ],
      "execution_count": null,
      "outputs": []
    },
    {
      "cell_type": "code",
      "metadata": {
        "id": "zoN3hyKvWf2Z"
      },
      "source": [
        "#(to look at the unsorted data)\n",
        "#session = fo.launch_app(dataset) \n",
        "\n",
        "#Look at image data via FiftyOne applet, sorted by max_similartiy (descending)\n",
        "view = dataset.sort_by(\"max_similarity\", True)\n",
        "session = fo.launch_app(view=view)"
      ],
      "execution_count": null,
      "outputs": []
    },
    {
      "cell_type": "code",
      "metadata": {
        "id": "l4gYmOF8Jreg"
      },
      "source": [
        "import os\n",
        "thresh = 0.93\n",
        "samples_to_remove = set()\n",
        "#filepaths_to_remove = set()\n",
        "samples_to_keep = set()\n",
        "for idx, sample in enumerate(dataset):\n",
        "    if sample.id not in samples_to_remove:\n",
        "        # Keep the first instance of two duplicates\n",
        "        samples_to_keep.add(sample.id)\n",
        "        #print(sample.id)\n",
        "        \n",
        "        dup_idxs = np.where(similarity_matrix[idx] > thresh)[0]\n",
        "        for dup in dup_idxs:\n",
        "            #print(dup)\n",
        "            # We kept the first instance so remove all other duplicates\n",
        "            samples_to_remove.add(id_map[dup])\n",
        "            #filepaths_to_remove.add(filepath_map[dup])\n",
        "        if len(dup_idxs) > 0:\n",
        "            sample.tags.append(\"has_duplicates\")\n",
        "            sample.save()\n",
        "        \n",
        "    else:\n",
        "        sample.tags.append(\"duplicate\")\n",
        "        sample.save()\n",
        "        \n",
        "# If you want to remove the samples from the dataset entirely \n",
        "#Deprecated: \n",
        "dataset.remove_samples(list(samples_to_remove))\n",
        "#print(list(samples_to_remove))\n",
        "#print(id_map[58])\n",
        "#dataset.delete_samples(list(samples_to_remove))\n",
        "#print(filepaths_to_remove)\n",
        "#            os.remove(filepath_map[dup])\n",
        "#for filepath in filepaths_to_remove:\n",
        "#    os.remove(filepath)\n",
        "#print(filepaths_to_remove)"
      ],
      "execution_count": null,
      "outputs": []
    },
    {
      "cell_type": "code",
      "metadata": {
        "id": "gR6-o7AIDl5W"
      },
      "source": [
        ""
      ],
      "execution_count": null,
      "outputs": []
    },
    {
      "cell_type": "code",
      "metadata": {
        "id": "uCwuKjzEe6J3"
      },
      "source": [
        "#Image cleaner provided by jmd_imagescraper\n",
        "#Manually search thru images to delete wrong examples:\n",
        "display_image_cleaner(path)"
      ],
      "execution_count": null,
      "outputs": []
    },
    {
      "cell_type": "code",
      "metadata": {
        "id": "iwi7RUIhLaBO",
        "cellView": "form"
      },
      "source": [
        "#@title Alternative: use FastAI images cleaner instead\n",
        "#Or if you prefer you can use FastAI's cleaner instead; it takes a long time to load the images though.\n",
        "#Also, properly importing these libraries may require a runtime restart in Colab!\n",
        "\"\"\"\n",
        "!pip install -Uqq fastbook\n",
        "import fastbook\n",
        "fastbook.setup_book()\n",
        "from fastbook import *\n",
        "from fastai.vision.widgets import *\n",
        "\n",
        "files = get_image_files(path)\n",
        "w = ImagesCleaner(max_n=400)\n",
        "w.set_fns(files)\n",
        "w\n",
        "\"\"\""
      ],
      "execution_count": null,
      "outputs": []
    },
    {
      "cell_type": "markdown",
      "metadata": {
        "id": "vuNjAu45kzGI"
      },
      "source": [
        "# Set aside some data for Validation and Training sets:"
      ]
    },
    {
      "cell_type": "code",
      "metadata": {
        "id": "kU8AiUhMIlUO",
        "colab": {
          "base_uri": "https://localhost:8080/"
        },
        "outputId": "5474d92d-cc88-4752-9c70-c97638c5f184"
      },
      "source": [
        "#Splitfolders takes random samples and places them in separate train and test folders:\n",
        "!pip install split_folders\n",
        "import splitfolders\n",
        "input_folder = \"/content/warbirds\"\n",
        "output_folder = \"/content/warbirds_processed\"\n",
        "\n",
        "#ratio is train/val/test:\n",
        "splitfolders.ratio(input_folder, output_folder, seed=22, ratio=(0.7,0.15,0.15))"
      ],
      "execution_count": null,
      "outputs": [
        {
          "output_type": "stream",
          "text": [
            "Collecting split_folders\n",
            "  Downloading split_folders-0.4.3-py3-none-any.whl (7.4 kB)\n",
            "Installing collected packages: split-folders\n",
            "Successfully installed split-folders-0.4.3\n"
          ],
          "name": "stdout"
        },
        {
          "output_type": "stream",
          "text": [
            "Copying files: 225 files [00:00, 4430.62 files/s]\n"
          ],
          "name": "stderr"
        }
      ]
    },
    {
      "cell_type": "code",
      "metadata": {
        "id": "FmT_8XiO8NFx",
        "cellView": "form"
      },
      "source": [
        "#@title Alternative: Manually split data into train/test folders\n",
        "#CODE TO MANUALLY SELECT A RANDOM SAMPLE TO SEND TO THE TESTING FOLDER;\n",
        "#(KERAS DOES NOT PROVIDE A WAY TO EASILY SPLIT TRAINING AND TESTING DATA FOR SOME REASON)\n",
        "\"\"\"\n",
        "os.mkdir('/content/warbirds_processed')\n",
        "os.mkdir('/content/warbirds_processed/bearcat')\n",
        "os.mkdir('/content/warbirds_processed/buffalo')\n",
        "os.mkdir('/content/warbirds_processed/corsair')\n",
        "os.mkdir('/content/warbirds_processed/hellcat')\n",
        "os.mkdir('/content/warbirds_processed/wildcat')\n",
        "\n",
        "import numpy as np\n",
        "import os\n",
        "\n",
        "folders = ['bearcat', 'buffalo', 'corsair', 'hellcat', 'wildcat']\n",
        "for folder in folders:\n",
        "  # list all files in dir\n",
        "  files = [f for f in os.listdir('/content/warbirds/' + folder)]\n",
        "  # select 0.15 of the files randomly \n",
        "  random_files = np.random.choice(files, int(len(files)*.15), replace=False)\n",
        "  source = '/content/warbirds/' + folder\n",
        "  for num, random_file in enumerate(random_files):\n",
        "    os.replace(source + \"/\"+ random_file,\"/content/warbirds_processed\" + \"/\" + folder + random_file)\n",
        "\"\"\""
      ],
      "execution_count": null,
      "outputs": []
    },
    {
      "cell_type": "markdown",
      "metadata": {
        "id": "WuAI-n89lCAC"
      },
      "source": [
        "# Building the model:"
      ]
    },
    {
      "cell_type": "code",
      "metadata": {
        "id": "a-733rhtzvxP"
      },
      "source": [
        "import tensorflow as tf\n",
        "from tensorflow.keras.layers import Conv2D, Flatten, Dense, MaxPool2D, BatchNormalization, GlobalAveragePooling2D\n",
        "from tensorflow.keras.preprocessing.image import ImageDataGenerator, load_img\n",
        "from tensorflow.keras.applications.resnet50 import ResNet50, preprocess_input, decode_predictions\n",
        "from tensorflow.keras.preprocessing import image\n",
        "from tensorflow.keras.models import Sequential, Model\n",
        "import matplotlib.pyplot as plt\n",
        "from matplotlib.pyplot import imshow\n",
        "import numpy as np"
      ],
      "execution_count": null,
      "outputs": []
    },
    {
      "cell_type": "code",
      "metadata": {
        "id": "bWP-qTDTPvi3"
      },
      "source": [
        "#Params:\n",
        "img_height, img_width = (128, 128)\n",
        "batch_size = 32\n",
        "num_epochs = 11\n",
        "lr = 5E-4 #default for Adam is 0.001\n",
        "opt = tf.keras.optimizers.Adam(learning_rate=lr)"
      ],
      "execution_count": null,
      "outputs": []
    },
    {
      "cell_type": "code",
      "metadata": {
        "id": "hiHqRwwNTuDh"
      },
      "source": [
        "train_data_dir = \"/content/warbirds_processed/train\"\n",
        "valid_data_dir = \"/content/warbirds_processed/val\"\n",
        "test_data_dir = \"/content/warbirds_processed/test\""
      ],
      "execution_count": null,
      "outputs": []
    },
    {
      "cell_type": "code",
      "metadata": {
        "id": "MYqN2cXwQ7b_",
        "colab": {
          "base_uri": "https://localhost:8080/"
        },
        "outputId": "cd1283b4-dcfc-437a-d627-31a86beca2e4"
      },
      "source": [
        "#Create data generators and show classes:\n",
        "train_datagen = ImageDataGenerator(preprocessing_function=preprocess_input,\n",
        "                                   shear_range=0.2,\n",
        "                                   zoom_range=0.2,\n",
        "                                   horizontal_flip=True,\n",
        "                                   validation_split = 0.4)\n",
        "\n",
        "train_generator = train_datagen.flow_from_directory(\n",
        "    train_data_dir,\n",
        "    target_size=(img_height,img_width),\n",
        "    batch_size=batch_size,\n",
        "    class_mode=\"categorical\",\n",
        "    subset=\"training\")\n",
        "\n",
        "valid_generator= train_datagen.flow_from_directory(\n",
        "    valid_data_dir,\n",
        "    target_size=(img_height,img_width),\n",
        "    batch_size=batch_size,\n",
        "    class_mode=\"categorical\",\n",
        "    subset=\"validation\")\n",
        "\n",
        "test_generator= train_datagen.flow_from_directory(\n",
        "    test_data_dir,\n",
        "    target_size=(img_height,img_width),\n",
        "    batch_size=1, #in order to test one at a time\n",
        "    class_mode=\"categorical\",\n",
        "    subset=\"validation\")\n",
        "\n",
        "train_generator.classes"
      ],
      "execution_count": null,
      "outputs": [
        {
          "output_type": "stream",
          "text": [
            "Found 99 images belonging to 9 classes.\n",
            "Found 9 images belonging to 9 classes.\n",
            "Found 18 images belonging to 9 classes.\n"
          ],
          "name": "stdout"
        },
        {
          "output_type": "execute_result",
          "data": {
            "text/plain": [
              "array([0, 0, 0, 0, 0, 0, 0, 0, 0, 0, 0, 1, 1, 1, 1, 1, 1, 1, 1, 1, 1, 1,\n",
              "       2, 2, 2, 2, 2, 2, 2, 2, 2, 2, 2, 3, 3, 3, 3, 3, 3, 3, 3, 3, 3, 3,\n",
              "       4, 4, 4, 4, 4, 4, 4, 4, 4, 4, 4, 5, 5, 5, 5, 5, 5, 5, 5, 5, 5, 5,\n",
              "       6, 6, 6, 6, 6, 6, 6, 6, 6, 6, 6, 7, 7, 7, 7, 7, 7, 7, 7, 7, 7, 7,\n",
              "       8, 8, 8, 8, 8, 8, 8, 8, 8, 8, 8], dtype=int32)"
            ]
          },
          "metadata": {},
          "execution_count": 8
        }
      ]
    },
    {
      "cell_type": "markdown",
      "metadata": {
        "id": "Oud_RGZ5re1S"
      },
      "source": [
        "#Last minute check on our data before we train:"
      ]
    },
    {
      "cell_type": "code",
      "metadata": {
        "id": "oI1u35jZUH7H"
      },
      "source": [
        "#Verify image and class list tensor shapes:\n",
        "x,y = test_generator.next()\n",
        "x.shape, y.shape, train_generator.num_classes\n",
        "#['bearcat', 'buffalo', 'corsair', 'hellcat', 'wildcat']"
      ],
      "execution_count": null,
      "outputs": []
    },
    {
      "cell_type": "code",
      "metadata": {
        "id": "R2kknnpNm6cp"
      },
      "source": [
        "#Create the base CNN:\n",
        "res_model = ResNet50(include_top=False, weights='imagenet') #input_tensor=None\n",
        "\n",
        "#Add dense layers at front and softmax at end for prediction/classification:\n",
        "x = res_model.output\n",
        "x = GlobalAveragePooling2D()(x) #puts another layer in front of x\n",
        "x = Dense(1024, activation='relu')(x) #\"\"\n",
        "predictions = Dense(train_generator.num_classes, activation='softmax')(x)\n",
        "\n",
        "model = Model(inputs=res_model.input, outputs=predictions)\n",
        "\n",
        "#Freeze CNN layers to non-trainable (we don't want to train these!):\n",
        "for layer in res_model.layers:\n",
        "  layer.trainable = False\n"
      ],
      "execution_count": null,
      "outputs": []
    },
    {
      "cell_type": "code",
      "metadata": {
        "id": "HlMTMvPHPVFt"
      },
      "source": [
        "x"
      ],
      "execution_count": null,
      "outputs": []
    },
    {
      "cell_type": "code",
      "metadata": {
        "id": "AufaUyddb6bB"
      },
      "source": [
        "model.compile(optimizer=opt, loss='categorical_crossentropy', metrics=['accuracy']) #optimizer='adam'"
      ],
      "execution_count": null,
      "outputs": []
    },
    {
      "cell_type": "code",
      "metadata": {
        "id": "i9_q37fYer_O"
      },
      "source": [
        "#tf.keras.preprocessing.image.array_to_img(image[0]).show()"
      ],
      "execution_count": null,
      "outputs": []
    },
    {
      "cell_type": "code",
      "metadata": {
        "id": "0k2K1CAFOvsT",
        "colab": {
          "base_uri": "https://localhost:8080/",
          "height": 305
        },
        "outputId": "e91ba057-a601-47a1-c9b4-06fffa906a0d"
      },
      "source": [
        "#Show example testing image:\n",
        "from PIL import Image\n",
        "#from tensorflow.keras.preprocessing import image\n",
        "for i in range(0,1):\n",
        "  image = x[i]\n",
        "  #print(image)\n",
        "  plt.imshow(np.array(image, dtype=np.int32))\n",
        "  plt.show()\n",
        "y"
      ],
      "execution_count": null,
      "outputs": [
        {
          "output_type": "stream",
          "text": [
            "Clipping input data to the valid range for imshow with RGB data ([0..1] for floats or [0..255] for integers).\n"
          ],
          "name": "stderr"
        },
        {
          "output_type": "display_data",
          "data": {
            "image/png": "[encoded data removed]",
            "text/plain": [
              "<Figure size 432x288 with 1 Axes>"
            ]
          },
          "metadata": {
            "needs_background": "light"
          }
        },
        {
          "output_type": "execute_result",
          "data": {
            "text/plain": [
              "array([[0., 0., 0., 0., 0., 0., 1., 0., 0.]], dtype=float32)"
            ]
          },
          "metadata": {},
          "execution_count": 21
        }
      ]
    },
    {
      "cell_type": "code",
      "metadata": {
        "id": "0SNiBKIyXGYY",
        "colab": {
          "base_uri": "https://localhost:8080/",
          "height": 268
        },
        "outputId": "906311b9-23e0-417c-c40c-c903d2a9b447"
      },
      "source": [
        "#@title Alternative code to show image through tensorflow:\n",
        "#Alternative image view:\n",
        "\n",
        "from PIL import Image\n",
        "from tensorflow.keras.preprocessing import image\n",
        "import tensorflow.keras.utils\n",
        "#x.shape\n",
        "img = x[0,:,:]\n",
        "img.shape\n",
        "for i in range(0,1):\n",
        "  img = tf.keras.preprocessing.image.array_to_img(img)\n",
        "  plt.imshow(img)\n",
        "  plt.show()\n"
      ],
      "execution_count": null,
      "outputs": [
        {
          "output_type": "display_data",
          "data": {
            "image/png": "[encoded data removed]",
            "text/plain": [
              "<Figure size 432x288 with 1 Axes>"
            ]
          },
          "metadata": {
            "needs_background": "light"
          }
        }
      ]
    },
    {
      "cell_type": "markdown",
      "metadata": {
        "id": "a5KWXFQisYrd"
      },
      "source": [
        "#Compile, Train and Save model:"
      ]
    },
    {
      "cell_type": "code",
      "metadata": {
        "id": "msW5DZliZsDt"
      },
      "source": [
        "print(model.summary())"
      ],
      "execution_count": null,
      "outputs": []
    },
    {
      "cell_type": "code",
      "metadata": {
        "id": "NkxMpUHZlZ0G"
      },
      "source": [
        "#Train the model on the training data:\n",
        "train_history = model.fit(train_generator, epochs=num_epochs, validation_data = valid_generator, verbose=2)"
      ],
      "execution_count": null,
      "outputs": []
    },
    {
      "cell_type": "code",
      "metadata": {
        "id": "7fI8e_ulmRLd",
        "colab": {
          "base_uri": "https://localhost:8080/"
        },
        "outputId": "0c741eb2-066c-4154-edfc-51581afe14ac"
      },
      "source": [
        "model.save(\"/content/warbirds/ResNet50_Warbirds.hdf5\");"
      ],
      "execution_count": null,
      "outputs": [
        {
          "output_type": "stream",
          "text": [
            "/usr/local/lib/python3.7/dist-packages/keras/utils/generic_utils.py:497: CustomMaskWarning: Custom mask layers require a config and must override get_config. When loading, the custom mask layer must be passed to the custom_objects argument.\n",
            "  category=CustomMaskWarning)\n"
          ],
          "name": "stderr"
        }
      ]
    },
    {
      "cell_type": "markdown",
      "metadata": {
        "id": "D1sIrXPTsoTD"
      },
      "source": [
        "# Calculating and visualizing accuracy: "
      ]
    },
    {
      "cell_type": "code",
      "metadata": {
        "id": "ULJiOl78mrEF",
        "colab": {
          "base_uri": "https://localhost:8080/",
          "height": 283
        },
        "outputId": "dbdb8a6c-a161-4cc6-b63f-c53460423f59"
      },
      "source": [
        "#Confusion Matrix\n",
        "#tutorial which helped me: https://www.youtube.com/watch?v=1Gbcp66yYX4\n",
        "import pandas as pd\n",
        "import seaborn as sn\n",
        "\n",
        "model = tf.keras.models.load_model(\"/content/warbirds/ResNet50_Warbirds.hdf5\")\n",
        "filenames = test_generator.filenames\n",
        "samples_num = len(test_generator) # len(warbirds)\n",
        "y_prob = []\n",
        "y_act = []\n",
        "test_generator.reset()\n",
        "\n",
        "for i in range(samples_num):\n",
        "  X_test, Y_test = test_generator.next()\n",
        "  result = model.predict(X_test)\n",
        "  y_prob.append(model.predict(X_test))\n",
        "  y_act.append(Y_test)\n",
        "  res = result[0]\n",
        "  res.sort()\n",
        "  res = res[::-1]\n",
        "  prob = res[:3]\n",
        "  #print(prob)\n",
        "\n",
        "predicted_class = [list(train_generator.class_indices.keys())[j.argmax()] for j in y_prob]\n",
        "actual_class = [list(train_generator.class_indices.keys())[j.argmax()] for j in y_act]\n",
        "out_df = pd.DataFrame(np.vstack([predicted_class, actual_class]).T, columns=['predicted_class', 'actual_class'])\n",
        "confusion_matrix = pd.crosstab(out_df['actual_class'], out_df['predicted_class'], rownames=['Actual'], colnames=['Predicted'])\n",
        "sn.heatmap(confusion_matrix, cmap='Blues', annot=True, fmt='d')\n",
        "plt.show()"
      ],
      "execution_count": null,
      "outputs": [
        {
          "output_type": "display_data",
          "data": {
            "image/png": "[encoded data removed]",
            "text/plain": [
              "<Figure size 432x288 with 2 Axes>"
            ]
          },
          "metadata": {
            "needs_background": "light"
          }
        }
      ]
    },
    {
      "cell_type": "code",
      "metadata": {
        "id": "aQk2ria4dBu0"
      },
      "source": [
        "model.evaluate(X_test, Y_test)"
      ],
      "execution_count": null,
      "outputs": []
    },
    {
      "cell_type": "code",
      "metadata": {
        "colab": {
          "base_uri": "https://localhost:8080/",
          "height": 578
        },
        "id": "6Ghc_GMMNDoD",
        "outputId": "d2d0a061-5ebb-4f1d-ba1b-64eecd09232f"
      },
      "source": [
        "#Plot accuracy/loss vs epochs for train/validation datasets:\n",
        "\n",
        "#Accuracy:\n",
        "epoch_range = range(1, num_epochs+1)\n",
        "plt.plot(epoch_range, train_history.history['accuracy'])\n",
        "plt.plot(epoch_range, train_history.history['val_accuracy'])\n",
        "plt.title('Classification Accuracy')\n",
        "plt.ylabel('Accuracy')\n",
        "plt.xlabel('Epoch')\n",
        "plt.legend(['Train', 'Val'], loc='lower right')\n",
        "plt.show()\n",
        "\n",
        "#Loss\n",
        "plt.plot(epoch_range,train_history.history['loss'])\n",
        "plt.plot(epoch_range, train_history.history['val_loss'])\n",
        "plt.title('Model loss')\n",
        "plt.ylabel('Loss')\n",
        "plt.xlabel('Epoch')\n",
        "plt.legend(['Train', 'Val'], loc='lower right')\n",
        "plt.tight_layout()"
      ],
      "execution_count": null,
      "outputs": [
        {
          "output_type": "display_data",
          "data": {
            "image/png": "[encoded data removed]",
            "text/plain": [
              "<Figure size 432x288 with 1 Axes>"
            ]
          },
          "metadata": {
            "needs_background": "light"
          }
        },
        {
          "output_type": "display_data",
          "data": {
            "image/png": "[encoded data removed]",
            "text/plain": [
              "<Figure size 432x288 with 1 Axes>"
            ]
          },
          "metadata": {
            "needs_background": "light"
          }
        }
      ]
    },
    {
      "cell_type": "markdown",
      "metadata": {
        "id": "Fr0MhLukQ_EP"
      },
      "source": [
        "# New Section"
      ]
    },
    {
      "cell_type": "code",
      "metadata": {
        "id": "-y7sGAvvHixN"
      },
      "source": [
        "#Improve:\n",
        "#Add more pics?\n",
        "#Cross validation, optimize hyperparamaters"
      ],
      "execution_count": null,
      "outputs": []
    }
  ]
}
